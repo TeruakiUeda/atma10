{
 "cells": [
  {
   "cell_type": "code",
   "execution_count": null,
   "metadata": {
    "id": "LhdKAqEf6Xyp"
   },
   "outputs": [],
   "source": [
    "!nvidia-smi"
   ]
  },
  {
   "cell_type": "code",
   "execution_count": null,
   "metadata": {
    "id": "rdZMFrSVYQ-w"
   },
   "outputs": [],
   "source": [
    "!pip install --upgrade pip > /dev/null\n",
    "!pip install transformers > /dev/null\n",
    "!pip3 install sentencepiece > /dev/null"
   ]
  },
  {
   "cell_type": "code",
   "execution_count": null,
   "metadata": {
    "id": "taXLwb9YYD9X"
   },
   "outputs": [],
   "source": [
    "import pandas as pd\n",
    "import numpy as np\n",
    "import torch\n",
    "import transformers\n",
    "\n",
    "from transformers import BertTokenizer\n",
    "from tqdm import tqdm\n",
    "tqdm.pandas()"
   ]
  },
  {
   "cell_type": "code",
   "execution_count": null,
   "metadata": {
    "id": "joEhL1RkYMvG"
   },
   "outputs": [],
   "source": [
    "#DATADIR = \"drive/MyDrive/atma10/input/\"\n",
    "#OUTPUTDIR = \"drive/MyDrive/atma10/feature/\"\n",
    "DATADIR = \"../input/\"\n",
    "OUTPUTDIR = \"../feature/\""
   ]
  },
  {
   "cell_type": "code",
   "execution_count": null,
   "metadata": {
    "id": "VpWuWwpbYc6j"
   },
   "outputs": [],
   "source": [
    "train_data = pd.read_csv(DATADIR + \"train.csv\")\n",
    "test_data = pd.read_csv(DATADIR + \"test.csv\")\n",
    "\n",
    "all_df = pd.concat([train_data, test_data], axis=0).reset_index(drop=True)"
   ]
  },
  {
   "cell_type": "code",
   "execution_count": null,
   "metadata": {
    "id": "8Xb3zaC4yFkg"
   },
   "outputs": [],
   "source": [
    "from transformers import AutoTokenizer, AutoModelForSeq2SeqLM\n",
    "from transformers import AutoModelForSequenceClassification\n",
    "from transformers import TFAutoModelForSequenceClassification\n",
    "from scipy.special import softmax\n",
    "import csv\n",
    "import urllib.request"
   ]
  },
  {
   "cell_type": "code",
   "execution_count": null,
   "metadata": {
    "id": "4iUSqLJ_9nRe"
   },
   "outputs": [],
   "source": [
    "task='sentiment'\n",
    "\n",
    "class BertSentiment:\n",
    "    def __init__(self):\n",
    "        self.device = 'cuda' if torch.cuda.is_available() else 'cpu'\n",
    "        self.model_name = f\"cardiffnlp/twitter-roberta-base-{task}\"\n",
    "        self.tokenizer = AutoTokenizer.from_pretrained(self.model_name)\n",
    "        self.bert_model = AutoModelForSequenceClassification.from_pretrained(self.model_name)\n",
    "        self.bert_model = self.bert_model.to(self.device)\n",
    "        self.max_len = 128\n",
    "        print(self.device)\n",
    "\n",
    "\n",
    "    def predict(self, sentence : str) -> np.array:\n",
    "        if sentence is np.nan:\n",
    "            return np.nan\n",
    "\n",
    "        encoded_input = self.tokenizer(sentence, return_tensors='pt').to(self.device)\n",
    "        output = self.bert_model(**encoded_input)\n",
    "        scores = output[0][0].detach().cpu().numpy()\n",
    "\n",
    "        return scores"
   ]
  },
  {
   "cell_type": "code",
   "execution_count": null,
   "metadata": {
    "id": "0QjnZ6ofPgrV"
   },
   "outputs": [],
   "source": [
    "import re\n",
    "def remove_pad_token(s):\n",
    "    if s is np.nan:\n",
    "        return np.nan\n",
    "    \n",
    "    clean_s = re.sub(\"<pad>\", \"\", s)\n",
    "    if clean_s[0] == \" \":\n",
    "        clean_s = clean_s[1:]\n",
    "    return clean_s"
   ]
  },
  {
   "cell_type": "code",
   "execution_count": null,
   "metadata": {
    "id": "vOHNalUDl1Ca"
   },
   "outputs": [],
   "source": [
    "# 1columnあたり5~10分\n",
    "\n",
    "BS = BertSentiment()\n",
    "for c in [\"transed_description\", \"transed_long_title\"]:\n",
    "    _df = pd.read_csv(f\"drive/MyDrive/atma10/feature/{c}.csv\")\n",
    "    try:\n",
    "        _df = _df.drop(\"Unnamed: 0\", axis=1)\n",
    "    except:\n",
    "        pass\n",
    "    print(_df.shape)\n",
    "\n",
    "    _df[c] = _df[c].apply(lambda x:remove_pad_token(x))\n",
    "    predict = _df[c].progress_apply(lambda x: BS.predict(x))\n",
    "    output = pd.concat([_df[\"object_id\"],\n",
    "                        pd.DataFrame(predict.values.tolist(), columns=[\"label1\", \"label2\", \"label3\"])], axis=1)\n",
    "    output.to_csv(OUTPUTDIR + f\"{c}_tweet_{task}.csv\", index=False)\n",
    "\n",
    "\n",
    "for c in [\"long_title\", \"title\", \"principal_maker\"]:\n",
    "    predict = all_df[c].progress_apply(lambda x: BS.predict(x))\n",
    "    output = pd.concat([all_df[\"object_id\"],\n",
    "                        pd.DataFrame(predict.values.tolist(), columns=[\"label1\", \"label2\", \"label3\"])], axis=1)\n",
    "    output.to_csv(OUTPUTDIR + f\"{c}_tweet_{task}.csv\", index=False)"
   ]
  },
  {
   "cell_type": "code",
   "execution_count": null,
   "metadata": {
    "id": "CLyrd9YFRaqp"
   },
   "outputs": [],
   "source": []
  }
 ],
 "metadata": {
  "accelerator": "GPU",
  "colab": {
   "authorship_tag": "ABX9TyPDJppzacBTlRC4VWkI3p/l",
   "collapsed_sections": [],
   "machine_shape": "hm",
   "mount_file_id": "1BDsw5-KmoIrJQpPcakcaCsY-1CdQ6tIM",
   "name": "text_sentiment_feature.ipynb",
   "private_outputs": true,
   "provenance": []
  },
  "kernelspec": {
   "display_name": "Python 3",
   "language": "python",
   "name": "python3"
  },
  "language_info": {
   "codemirror_mode": {
    "name": "ipython",
    "version": 3
   },
   "file_extension": ".py",
   "mimetype": "text/x-python",
   "name": "python",
   "nbconvert_exporter": "python",
   "pygments_lexer": "ipython3",
   "version": "3.6.5"
  }
 },
 "nbformat": 4,
 "nbformat_minor": 4
}
